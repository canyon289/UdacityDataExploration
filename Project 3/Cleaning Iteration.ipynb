{
 "cells": [
  {
   "cell_type": "markdown",
   "metadata": {},
   "source": [
    "# Exploratory Analysis and cleaning\n",
    "This notebook will serve as an interation for cleaning and verifying fixes in the OSM data. The MongoDB test database will be used as it's much more performant than iterating over the JSON file"
   ]
  },
  {
   "cell_type": "code",
   "execution_count": 3,
   "metadata": {
    "collapsed": true
   },
   "outputs": [],
   "source": [
    "# Import Mongodb Driver\n",
    "from pymongo import MongoClient\n",
    "client = MongoClient('mongodb://localhost:27017/')\n",
    "db = client.test"
   ]
  },
  {
   "cell_type": "markdown",
   "metadata": {},
   "source": [
    "## Inspecting some nodes in greater detail\n",
    "Random documents will be selected to for manual inspection to understand the OSM structure in practice."
   ]
  },
  {
   "cell_type": "code",
   "execution_count": 18,
   "metadata": {
    "collapsed": false
   },
   "outputs": [
    {
     "data": {
      "text/plain": [
       "[474387,\n",
       " 768268,\n",
       " 711957,\n",
       " 3028769,\n",
       " 1418376,\n",
       " 5618105,\n",
       " 2584835,\n",
       " 2110433,\n",
       " 5083028,\n",
       " 1780220]"
      ]
     },
     "execution_count": 18,
     "metadata": {},
     "output_type": "execute_result"
    }
   ],
   "source": [
    "#Get Number of document\n",
    "num_documents = db.la_map.find().count()\n",
    "\n",
    "#Get random list\n",
    "import random\n",
    "random.seed(2)\n",
    "\n",
    "random_list = [random.randrange(0,num_documents) for num in range(10)]\n",
    "random_list"
   ]
  },
  {
   "cell_type": "code",
   "execution_count": 19,
   "metadata": {
    "collapsed": false,
    "scrolled": true
   },
   "outputs": [
    {
     "name": "stdout",
     "output_type": "stream",
     "text": [
      "{'_id': ObjectId('5666f24db854b14d56c2a8bb'),\n",
      " 'address': {},\n",
      " 'created': {'changeset': '3484407',\n",
      "             'timestamp': '2009-12-29T20:07:33Z',\n",
      "             'uid': '147510',\n",
      "             'user': 'woodpeck_fixbot',\n",
      "             'version': '2'},\n",
      " 'id': '95445789',\n",
      " 'node_refs': [],\n",
      " 'pos': [34.312752, -118.852562],\n",
      " 'type': 'node'}\n",
      "\n",
      "{'_id': ObjectId('5666f253b854b14d56c724b4'),\n",
      " 'address': {},\n",
      " 'created': {'changeset': '12753187',\n",
      "             'timestamp': '2012-08-16T17:16:32Z',\n",
      "             'uid': '53073',\n",
      "             'user': 'Aaron Lidman',\n",
      "             'version': '5'},\n",
      " 'id': '122759371',\n",
      " 'node_refs': [],\n",
      " 'pos': [33.8271577, -117.7824221],\n",
      " 'type': 'node'}\n",
      "\n",
      "{'_id': ObjectId('5666f252b854b14d56c648bd'),\n",
      " 'address': {},\n",
      " 'created': {'changeset': '15790934',\n",
      "             'timestamp': '2013-04-19T23:17:54Z',\n",
      "             'uid': '53073',\n",
      "             'user': 'Aaron Lidman',\n",
      "             'version': '4'},\n",
      " 'id': '122627522',\n",
      " 'node_refs': [],\n",
      " 'pos': [33.8392396, -117.7650139],\n",
      " 'type': 'node'}\n",
      "\n",
      "{'_id': ObjectId('5666f28cb854b14d56e9a2c9'),\n",
      " 'address': {},\n",
      " 'created': {'changeset': '11228780',\n",
      "             'timestamp': '2012-04-08T19:32:42Z',\n",
      "             'uid': '104962',\n",
      "             'user': 'techlady',\n",
      "             'version': '1'},\n",
      " 'id': '1707559662',\n",
      " 'node_refs': [],\n",
      " 'pos': [34.1115691, -118.3383884],\n",
      " 'type': 'node'}\n",
      "\n",
      "{'_id': ObjectId('5666f264b854b14d56d11030'),\n",
      " 'address': {},\n",
      " 'created': {'changeset': '2430622',\n",
      "             'timestamp': '2009-09-09T23:09:58Z',\n",
      "             'uid': '129203',\n",
      "             'user': 'Tangent_',\n",
      "             'version': '1'},\n",
      " 'id': '491629390',\n",
      " 'node_refs': [],\n",
      " 'pos': [33.7174371, -116.9982093],\n",
      " 'type': 'node'}\n",
      "\n",
      "{'_id': ObjectId('5666f2d5b854b14d56112561'),\n",
      " 'address': {},\n",
      " 'created': {'changeset': '10530553',\n",
      "             'timestamp': '2012-01-29T16:59:59Z',\n",
      "             'uid': '38487',\n",
      "             'user': 'jumbanho',\n",
      "             'version': '2'},\n",
      " 'gnis:fcode': '46003',\n",
      " 'gnis:ftype': 'StreamRiver',\n",
      " 'id': '80228577',\n",
      " 'intermittent': 'yes',\n",
      " 'nhd:com_id': '26486807',\n",
      " 'nhd:fdate': 'Tue Jul 03 00:00:00 PDT 2001',\n",
      " 'nhd:reach_code': '18070101000576',\n",
      " 'node_refs': ['936197895',\n",
      "               '936269864',\n",
      "               '936313675',\n",
      "               '936283340',\n",
      "               '936184677',\n",
      "               '936251648',\n",
      "               '936308367',\n",
      "               '936226909',\n",
      "               '936294202',\n",
      "               '936203884',\n",
      "               '936276115',\n",
      "               '936289476',\n",
      "               '936195090',\n",
      "               '936266588',\n",
      "               '936312692',\n",
      "               '936235130',\n",
      "               '936301513',\n",
      "               '936214649',\n",
      "               '936287017',\n",
      "               '936224369',\n",
      "               '936292928',\n",
      "               '936201134',\n",
      "               '936273045',\n",
      "               '936316133',\n",
      "               '936240257',\n",
      "               '936304206',\n",
      "               '936219056',\n",
      "               '936249351',\n",
      "               '936307867',\n",
      "               '936226025',\n",
      "               '936293484',\n",
      "               '936202608',\n",
      "               '936274570',\n",
      "               '936318120',\n",
      "               '936241395',\n",
      "               '936189216',\n",
      "               '936257486',\n",
      "               '936310582',\n",
      "               '936229582',\n",
      "               '936298202',\n",
      "               '936208407',\n",
      "               '936281980',\n",
      "               '936183337',\n",
      "               '936228670',\n",
      "               '936297250',\n",
      "               '936206856',\n",
      "               '936279511',\n",
      "               '936181902',\n",
      "               '936246481'],\n",
      " 'pos': ['Lat', 'Lon'],\n",
      " 'source': 'NHD',\n",
      " 'type': 'way',\n",
      " 'waterway': 'stream'}\n",
      "\n",
      "{'_id': ObjectId('5666f281b854b14d56e2dcab'),\n",
      " 'address': {},\n",
      " 'created': {'changeset': '29915658',\n",
      "             'timestamp': '2015-04-01T21:05:39Z',\n",
      "             'uid': '2512300',\n",
      "             'user': 'samely',\n",
      "             'version': '3'},\n",
      " 'id': '1324455069',\n",
      " 'node_refs': [],\n",
      " 'pos': [33.8444974, -117.2132336],\n",
      " 'type': 'node'}\n",
      "\n",
      "{'_id': ObjectId('5666f275b854b14d56db9f89'),\n",
      " 'address': {},\n",
      " 'created': {'changeset': '5940346',\n",
      "             'timestamp': '2010-10-02T23:11:15Z',\n",
      "             'uid': '55774',\n",
      "             'user': 'nmixter',\n",
      "             'version': '1'},\n",
      " 'id': '935930666',\n",
      " 'node_refs': [],\n",
      " 'pos': [34.4478669, -118.3220793],\n",
      " 'type': 'node'}\n",
      "\n",
      "{'_id': ObjectId('5666f2c1b854b14d5608fb3c'),\n",
      " 'address': {},\n",
      " 'created': {'changeset': '33298514',\n",
      "             'timestamp': '2015-08-12T19:24:37Z',\n",
      "             'uid': '1240849',\n",
      "             'user': 'ediyes',\n",
      "             'version': '1'},\n",
      " 'id': '3693975119',\n",
      " 'node_refs': [],\n",
      " 'pos': [34.0172724, -118.0278861],\n",
      " 'type': 'node'}\n",
      "\n",
      "{'_id': ObjectId('5666f26db854b14d56d695a4'),\n",
      " 'address': {},\n",
      " 'created': {'changeset': '7961223',\n",
      "             'timestamp': '2011-04-25T09:46:10Z',\n",
      "             'uid': '82317',\n",
      "             'user': 'AM909',\n",
      "             'version': '2'},\n",
      " 'id': '834889167',\n",
      " 'node_refs': [],\n",
      " 'pos': [33.6022759, -117.1325292],\n",
      " 'type': 'node'}\n",
      "\n"
     ]
    }
   ],
   "source": [
    "import pprint\n",
    "c = db.la_map.find()\n",
    "for document_num in random_list:\n",
    "    pprint.pprint(c[document_num])\n",
    "    print(\"\")"
   ]
  },
  {
   "cell_type": "markdown",
   "metadata": {},
   "source": [
    "Most of these results are fairly boring. The node just tells us is position and when it was created. As is such I'd like to take a look at distribution for the length of records from the LA OSM file.\n",
    "\n",
    "### Pymongo Limitation\n",
    "This actually would have been much easier if I was using the MongoDB terminal client. Pymongo is notably missing the forEach method which allows for a javascript style query which has great flexbility when working with the objects. However it eventually works out as we will be using the robust methods in Pandas to provide a deeper analysis of distribution of document lengths"
   ]
  },
  {
   "cell_type": "code",
   "execution_count": 25,
   "metadata": {
    "collapsed": false
   },
   "outputs": [
    {
     "data": {
      "text/plain": [
       "[['653661', 7], ['653678', 7], ['653688', 7], ['653689', 7], ['653690', 7]]"
      ]
     },
     "execution_count": 25,
     "metadata": {},
     "output_type": "execute_result"
    }
   ],
   "source": [
    "document_lengths = []\n",
    "for document in c:\n",
    "    document_lengths.append([document[\"id\"], len(document)])\n",
    "    \n",
    "document_lengths[:5]"
   ]
  },
  {
   "cell_type": "code",
   "execution_count": 27,
   "metadata": {
    "collapsed": false
   },
   "outputs": [
    {
     "data": {
      "text/plain": [
       "(5953757, 2)"
      ]
     },
     "execution_count": 27,
     "metadata": {},
     "output_type": "execute_result"
    }
   ],
   "source": [
    "import pandas as pd\n",
    "df = pd.DataFrame(document_lengths, columns = [\"id\", \"Length\"])\n",
    "df.shape"
   ]
  },
  {
   "cell_type": "code",
   "execution_count": 34,
   "metadata": {
    "collapsed": false
   },
   "outputs": [
    {
     "data": {
      "text/html": [
       "<div>\n",
       "<table border=\"1\" class=\"dataframe\">\n",
       "  <thead>\n",
       "    <tr style=\"text-align: right;\">\n",
       "      <th></th>\n",
       "      <th>id</th>\n",
       "      <th>Length</th>\n",
       "    </tr>\n",
       "  </thead>\n",
       "  <tbody>\n",
       "    <tr>\n",
       "      <th>0</th>\n",
       "      <td>653661</td>\n",
       "      <td>7</td>\n",
       "    </tr>\n",
       "    <tr>\n",
       "      <th>1</th>\n",
       "      <td>653678</td>\n",
       "      <td>7</td>\n",
       "    </tr>\n",
       "    <tr>\n",
       "      <th>2</th>\n",
       "      <td>653688</td>\n",
       "      <td>7</td>\n",
       "    </tr>\n",
       "    <tr>\n",
       "      <th>3</th>\n",
       "      <td>653689</td>\n",
       "      <td>7</td>\n",
       "    </tr>\n",
       "    <tr>\n",
       "      <th>4</th>\n",
       "      <td>653690</td>\n",
       "      <td>7</td>\n",
       "    </tr>\n",
       "  </tbody>\n",
       "</table>\n",
       "</div>"
      ],
      "text/plain": [
       "       id  Length\n",
       "0  653661       7\n",
       "1  653678       7\n",
       "2  653688       7\n",
       "3  653689       7\n",
       "4  653690       7"
      ]
     },
     "execution_count": 34,
     "metadata": {},
     "output_type": "execute_result"
    }
   ],
   "source": [
    "df.head()"
   ]
  },
  {
   "cell_type": "code",
   "execution_count": 32,
   "metadata": {
    "collapsed": false
   },
   "outputs": [
    {
     "data": {
      "text/plain": [
       "count    5953757.000000\n",
       "mean           7.625952\n",
       "std            2.237075\n",
       "min            7.000000\n",
       "25%            7.000000\n",
       "50%            7.000000\n",
       "75%            7.000000\n",
       "max           46.000000\n",
       "Name: Length, dtype: float64"
      ]
     },
     "execution_count": 32,
     "metadata": {},
     "output_type": "execute_result"
    }
   ],
   "source": [
    "#del document_lengths\n",
    "df[\"Length\"].describe()"
   ]
  },
  {
   "cell_type": "markdown",
   "metadata": {},
   "source": [
    "The majority of nodes have 7 values, at least over 75%. This is consistenet with what we saw above. Checking to see how many have above seven values."
   ]
  },
  {
   "cell_type": "code",
   "execution_count": 33,
   "metadata": {
    "collapsed": false
   },
   "outputs": [
    {
     "data": {
      "text/plain": [
       "count    839765.000000\n",
       "mean         11.437871\n",
       "std           4.308606\n",
       "min           8.000000\n",
       "25%           8.000000\n",
       "50%           9.000000\n",
       "75%          15.000000\n",
       "max          46.000000\n",
       "Name: Length, dtype: float64"
      ]
     },
     "execution_count": 33,
     "metadata": {},
     "output_type": "execute_result"
    }
   ],
   "source": [
    "df.ix[df[\"Length\"] > 7 ,\"Length\"].describe()"
   ]
  },
  {
   "cell_type": "markdown",
   "metadata": {},
   "source": [
    "Let's get random items from the MongoDB database that have items over 7. Since I iterated over the entire MongoDB file each dataframe row should correspond to it's matching instance in MongoDB."
   ]
  },
  {
   "cell_type": "code",
   "execution_count": 56,
   "metadata": {
    "collapsed": false,
    "scrolled": true
   },
   "outputs": [
    {
     "name": "stdout",
     "output_type": "stream",
     "text": [
      "{'_id': ObjectId('5666f2d3b854b14d56108edd'),\n",
      " 'access': 'private',\n",
      " 'address': {},\n",
      " 'created': {'changeset': '3286993',\n",
      "             'timestamp': '2009-12-04T09:47:44Z',\n",
      "             'uid': '82317',\n",
      "             'user': 'AM909',\n",
      "             'version': '1'},\n",
      " 'highway': 'service',\n",
      " 'id': '45545897',\n",
      " 'node_refs': ['580751571', '580751626'],\n",
      " 'oneway': 'yes',\n",
      " 'pos': ['Lat', 'Lon'],\n",
      " 'source': 'survey;image;usgs_imagery',\n",
      " 'source_ref': 'AM909_DSCQ1192',\n",
      " 'type': 'way'}\n",
      "\n",
      "{'_id': ObjectId('5666f2d8b854b14d56126200'),\n",
      " 'address': {},\n",
      " 'building': 'yes',\n",
      " 'created': {'changeset': '11328457',\n",
      "             'timestamp': '2012-04-17T01:25:42Z',\n",
      "             'uid': '313196',\n",
      "             'user': 'The Temecula Mapper',\n",
      "             'version': '1'},\n",
      " 'id': '159934214',\n",
      " 'node_refs': ['1719987667',\n",
      "               '1719979329',\n",
      "               '1719979328',\n",
      "               '1719987666',\n",
      "               '1719987667'],\n",
      " 'pos': ['Lat', 'Lon'],\n",
      " 'source': 'bing_imagery',\n",
      " 'type': 'way'}\n",
      "\n",
      "{'_id': ObjectId('5666f2d5b854b14d561156ac'),\n",
      " 'address': {},\n",
      " 'created': {'changeset': '7223529',\n",
      "             'timestamp': '2011-02-08T06:01:09Z',\n",
      "             'uid': '82317',\n",
      "             'user': 'AM909',\n",
      "             'version': '1'},\n",
      " 'highway': 'service',\n",
      " 'id': '98686952',\n",
      " 'node_refs': ['1141755420',\n",
      "               '1141754907',\n",
      "               '1141755194',\n",
      "               '1141755463',\n",
      "               '1141755045',\n",
      "               '1141755508'],\n",
      " 'pos': ['Lat', 'Lon'],\n",
      " 'service': 'parking_aisle',\n",
      " 'source': 'bing_imagery_0.06m_200701',\n",
      " 'type': 'way'}\n",
      "\n",
      "{'_id': ObjectId('5666f2d7b854b14d5611fe9e'),\n",
      " 'address': {},\n",
      " 'building': 'yes',\n",
      " 'created': {'changeset': '9592636',\n",
      "             'timestamp': '2011-10-18T16:37:04Z',\n",
      "             'uid': '529264',\n",
      "             'user': 'widesays',\n",
      "             'version': '1'},\n",
      " 'id': '133752148',\n",
      " 'node_refs': ['1472144098',\n",
      "               '1472144096',\n",
      "               '1472144074',\n",
      "               '1472144075',\n",
      "               '1472144098'],\n",
      " 'pos': ['Lat', 'Lon'],\n",
      " 'type': 'way'}\n",
      "\n",
      "{'_id': ObjectId('5666f2d5b854b14d5611268d'),\n",
      " 'address': {},\n",
      " 'created': {'changeset': '10508096',\n",
      "             'timestamp': '2012-01-27T04:29:07Z',\n",
      "             'uid': '38487',\n",
      "             'user': 'jumbanho',\n",
      "             'version': '2'},\n",
      " 'gnis:fcode': '46003',\n",
      " 'gnis:ftype': 'StreamRiver',\n",
      " 'id': '80229906',\n",
      " 'intermittent': 'yes',\n",
      " 'nhd:com_id': '26486843',\n",
      " 'nhd:fdate': 'Tue Jul 03 00:00:00 PDT 2001',\n",
      " 'nhd:reach_code': '18070101000582',\n",
      " 'node_refs': ['936246355',\n",
      "               '936307019',\n",
      "               '936224037',\n",
      "               '936292844',\n",
      "               '936233781',\n",
      "               '936300809',\n",
      "               '936212775',\n",
      "               '936286184',\n",
      "               '936187213',\n",
      "               '936254896',\n",
      "               '936309464',\n",
      "               '936228615',\n",
      "               '936284488',\n",
      "               '936185748',\n",
      "               '936253065',\n",
      "               '936308816',\n",
      "               '936227637',\n",
      "               '936295627',\n",
      "               '936205224',\n",
      "               '936277217',\n",
      "               '936216691',\n",
      "               '936287823',\n",
      "               '936191767',\n",
      "               '936261459',\n",
      "               '936311618',\n",
      "               '936231571',\n",
      "               '936299318'],\n",
      " 'pos': ['Lat', 'Lon'],\n",
      " 'source': 'NHD',\n",
      " 'type': 'way',\n",
      " 'waterway': 'stream'}\n",
      "\n",
      "{'FIXME': 'Intermittently divided.',\n",
      " '_id': ObjectId('5666f2d9b854b14d5612714e'),\n",
      " 'address': {},\n",
      " 'created': {'changeset': '16478162',\n",
      "             'timestamp': '2013-06-09T08:32:52Z',\n",
      "             'uid': '1282393',\n",
      "             'user': 'Reno Editor',\n",
      "             'version': '5'},\n",
      " 'hgv': 'designated',\n",
      " 'hgv:national_network': 'terminal_access',\n",
      " 'highway': 'primary',\n",
      " 'id': '164327783',\n",
      " 'lanes': '4',\n",
      " 'name': '5th Street',\n",
      " 'node_refs': ['54944666', '2337906568', '54859529'],\n",
      " 'old_ref': 'US 66 Business;SR 18',\n",
      " 'old_ref:legislative': '9',\n",
      " 'pos': ['Lat', 'Lon'],\n",
      " 'ref': 'CA 66',\n",
      " 'source': 'bing_imagery_0.06m_200706;SBCA',\n",
      " 'source:hgv:national_network': 'Caltrans '\n",
      "                                'http://www.dot.ca.gov/hq/traffops/trucks/truckmap/',\n",
      " 'source_ref': 'AM0134-I1',\n",
      " 'tiger:cfcc': 'A41',\n",
      " 'tiger:county': 'San Bernardino, CA',\n",
      " 'tiger:name_base': '5th',\n",
      " 'tiger:name_base_1': 'Foothill',\n",
      " 'tiger:name_base_2': 'State Highway 66',\n",
      " 'tiger:name_direction_prefix': 'W',\n",
      " 'tiger:name_direction_prefix_1': 'W',\n",
      " 'tiger:name_type': 'St',\n",
      " 'tiger:name_type_1': 'Blvd',\n",
      " 'tiger:zip_left': '92410',\n",
      " 'tiger:zip_right': '92401',\n",
      " 'type': 'way'}\n",
      "\n",
      "{'_id': ObjectId('5666f2d0b854b14d560f9643'),\n",
      " 'address': {},\n",
      " 'created': {'changeset': '13124176',\n",
      "             'timestamp': '2012-09-15T21:59:11Z',\n",
      "             'uid': '28145',\n",
      "             'user': 'amillar',\n",
      "             'version': '5'},\n",
      " 'highway': 'residential',\n",
      " 'id': '13389843',\n",
      " 'name': 'Goodhart Avenue',\n",
      " 'node_refs': ['123251632', '1916320557', '1916320555', '122952365'],\n",
      " 'pos': ['Lat', 'Lon'],\n",
      " 'tiger:cfcc': 'A41',\n",
      " 'tiger:county': 'Los Angeles, CA',\n",
      " 'tiger:name_base': 'Goodhart',\n",
      " 'tiger:name_type': 'Ave',\n",
      " 'tiger:separated': 'no',\n",
      " 'tiger:source': 'tiger_import_dch_v0.6_20070809',\n",
      " 'tiger:tlid': '141652292',\n",
      " 'tiger:zip_left': '90601',\n",
      " 'tiger:zip_right': '90601',\n",
      " 'type': 'way'}\n",
      "\n",
      "{'_id': ObjectId('5666f2d5b854b14d56112ba9'),\n",
      " 'address': {},\n",
      " 'created': {'changeset': '10257668',\n",
      "             'timestamp': '2011-12-31T22:47:54Z',\n",
      "             'uid': '313196',\n",
      "             'user': 'The Temecula Mapper',\n",
      "             'version': '2'},\n",
      " 'id': '81606417',\n",
      " 'leisure': 'playground',\n",
      " 'node_refs': ['951084685',\n",
      "               '951084690',\n",
      "               '951084692',\n",
      "               '951084695',\n",
      "               '951084702',\n",
      "               '951084706',\n",
      "               '951084707',\n",
      "               '951084708',\n",
      "               '951084709',\n",
      "               '951084711',\n",
      "               '951084714',\n",
      "               '951084716',\n",
      "               '951084719',\n",
      "               '951084721',\n",
      "               '951084685'],\n",
      " 'pos': ['Lat', 'Lon'],\n",
      " 'source': 'bing_imagery',\n",
      " 'type': 'way'}\n",
      "\n",
      "{'_id': ObjectId('5666f2ccb854b14d560e6a0f'),\n",
      " 'address': {},\n",
      " 'created': {'changeset': '4248199',\n",
      "             'timestamp': '2010-03-27T19:27:27Z',\n",
      "             'uid': '20587',\n",
      "             'user': 'balrog-kun',\n",
      "             'version': '2'},\n",
      " 'highway': 'residential',\n",
      " 'id': '10735535',\n",
      " 'name': 'Thistlegate Road',\n",
      " 'node_refs': ['95550970',\n",
      "               '95550971',\n",
      "               '95550972',\n",
      "               '95550973',\n",
      "               '95550974',\n",
      "               '95550975',\n",
      "               '95524726',\n",
      "               '95550976',\n",
      "               '95550977',\n",
      "               '95550978',\n",
      "               '95550979',\n",
      "               '95550980',\n",
      "               '95550981',\n",
      "               '95550982',\n",
      "               '95550983'],\n",
      " 'pos': ['Lat', 'Lon'],\n",
      " 'tiger:cfcc': 'A41',\n",
      " 'tiger:county': 'Ventura, CA',\n",
      " 'tiger:name_base': 'Thistlegate',\n",
      " 'tiger:name_type': 'Rd',\n",
      " 'tiger:reviewed': 'no',\n",
      " 'tiger:separated': 'no',\n",
      " 'tiger:source': 'tiger_import_dch_v0.6_20070809',\n",
      " 'tiger:tlid': '110043088:110048273:110019766:110019767',\n",
      " 'tiger:zip_left': '91377',\n",
      " 'tiger:zip_right': '91377',\n",
      " 'type': 'way'}\n",
      "\n",
      "{'AIN': '5539034002',\n",
      " 'AREA': '0.0',\n",
      " 'BLD_ID': '474730851480',\n",
      " 'CODE': 'Building',\n",
      " 'DATE_': '2008',\n",
      " 'ELEV': '333.01',\n",
      " 'HEIGHT': '22.54',\n",
      " 'SOURCE': 'LARIAC2',\n",
      " 'Shape_Area': '26.3743485568',\n",
      " 'Shape_Leng': '23.7130076906',\n",
      " '_id': ObjectId('5666f2e0b854b14d5615770d'),\n",
      " 'address': {},\n",
      " 'building': 'yes',\n",
      " 'created': {'changeset': '32572928',\n",
      "             'timestamp': '2015-07-12T00:57:25Z',\n",
      "             'uid': '3049136',\n",
      "             'user': 'Jon Schleuss',\n",
      "             'version': '1'},\n",
      " 'id': '360082959',\n",
      " 'node_refs': ['3646831526',\n",
      "               '3646831496',\n",
      "               '3646831494',\n",
      "               '3646831527',\n",
      "               '3646831526'],\n",
      " 'pos': ['Lat', 'Lon'],\n",
      " 'type': 'way'}\n",
      "\n"
     ]
    }
   ],
   "source": [
    "c = db.la_map.find()\n",
    "\n",
    "for document_num in df.ix[df[\"Length\"] > 9 ,\"Length\"].sample(10).index:\n",
    "    pprint.pprint(c[int(document_num)])\n",
    "    print(\"\")"
   ]
  },
  {
   "cell_type": "markdown",
   "metadata": {},
   "source": [
    "Again nothing stands out here. Let's take a look at the keys themselves"
   ]
  },
  {
   "cell_type": "code",
   "execution_count": 57,
   "metadata": {
    "collapsed": false
   },
   "outputs": [
    {
     "data": {
      "text/plain": [
       "dict_keys(['type', 'address', 'node_refs', 'pos', '_id', 'created', 'id'])"
      ]
     },
     "execution_count": 57,
     "metadata": {},
     "output_type": "execute_result"
    }
   ],
   "source": [
    "c[0].keys()"
   ]
  },
  {
   "cell_type": "code",
   "execution_count": 80,
   "metadata": {
    "collapsed": false
   },
   "outputs": [],
   "source": [
    "c = db.la_map.find()\n",
    "tag_count = {}\n",
    "for document in c:\n",
    "    for key in document.keys():\n",
    "        if tag_count.get(key):\n",
    "            tag_count[key] +=1\n",
    "        else:\n",
    "            tag_count[key] = 1   \n",
    "\n",
    "df_keycount = pd.Series(tag_count)"
   ]
  },
  {
   "cell_type": "code",
   "execution_count": 81,
   "metadata": {
    "collapsed": false
   },
   "outputs": [
    {
     "data": {
      "text/plain": [
       "3dr:type       1\n",
       "4wd_only       3\n",
       "AIN         9713\n",
       "ALAND        332\n",
       "APN           49\n",
       "dtype: int64"
      ]
     },
     "execution_count": 81,
     "metadata": {},
     "output_type": "execute_result"
    }
   ],
   "source": [
    "df_keycount.head().sort_index()"
   ]
  },
  {
   "cell_type": "code",
   "execution_count": 82,
   "metadata": {
    "collapsed": true
   },
   "outputs": [],
   "source": [
    "df_keycount.to_csv(\"Attributes.csv\")"
   ]
  },
  {
   "cell_type": "code",
   "execution_count": 84,
   "metadata": {
    "collapsed": false
   },
   "outputs": [
    {
     "data": {
      "text/plain": [
       "count       1707.000000\n",
       "mean       26598.169303\n",
       "std       380915.788686\n",
       "min            1.000000\n",
       "25%            1.000000\n",
       "50%            5.000000\n",
       "75%           69.000000\n",
       "max      5953758.000000\n",
       "dtype: float64"
      ]
     },
     "execution_count": 84,
     "metadata": {},
     "output_type": "execute_result"
    }
   ],
   "source": [
    "df_keycount.describe()"
   ]
  },
  {
   "cell_type": "markdown",
   "metadata": {},
   "source": [
    "The majority of tags are used less than 5 times. When looking through the tag data manually it is notable that some tags are essentially the same thing. For instance **Wifi_Access** and **Internet** indicate whether internet access is available but with two tags it becomes more difficult to find all places that have internet access"
   ]
  }
 ],
 "metadata": {
  "kernelspec": {
   "display_name": "Python 3",
   "language": "python",
   "name": "python3"
  },
  "language_info": {
   "codemirror_mode": {
    "name": "ipython",
    "version": 3
   },
   "file_extension": ".py",
   "mimetype": "text/x-python",
   "name": "python",
   "nbconvert_exporter": "python",
   "pygments_lexer": "ipython3",
   "version": "3.4.3"
  }
 },
 "nbformat": 4,
 "nbformat_minor": 0
}
