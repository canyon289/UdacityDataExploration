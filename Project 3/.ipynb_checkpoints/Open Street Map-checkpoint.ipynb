{
 "cells": [
  {
   "cell_type": "markdown",
   "metadata": {},
   "source": [
    "# Project 3 - Open Street Map Data Wrangling\n",
    "\n",
    "## Abstract\n",
    "Open Street Map is a project to create a open source mapping of the world. It could most easily be understood as the Wikipedia of maps, where anyone in the world can add to the mapping dataset. The data provides a rich dataset, both interesting in the context of learning more about various geographic areas around the world, or from the data itself, such as how many people contributed to the dataset for a particular area. With any project reliant on human input though the data is sometimes inconsistent. \n",
    "\n",
    "### Los Angeles California\n",
    "Los Angeles California was chosen for two primary reasons. One is that Los Angeles is largest city in America, and the second most populous. It is very likely that there are more records in Los Angeles than most other American cities and it is also likely that there are more contributers. The second reason is that the I was born close to Los Angeles so to me it is a more interesting dataset.\n",
    "\n",
    "## Methodology\n",
    "The map data was initially downloaded from MapZen"
   ]
  },
  {
   "cell_type": "markdown",
   "metadata": {},
   "source": [
    "## Data Munging\n",
    "\n",
    "### Verify Tags"
   ]
  },
  {
   "cell_type": "code",
   "execution_count": 5,
   "metadata": {
    "collapsed": true
   },
   "outputs": [],
   "source": [
    "file_location = \"data\\los-angeles_california.osm\"\n",
    "file_location = r\"C:\\los-angeles_california.osm\""
   ]
  },
  {
   "cell_type": "code",
   "execution_count": 6,
   "metadata": {
    "collapsed": false
   },
   "outputs": [],
   "source": [
    "from programs import tags\n",
    "tag = tags.process_map(file_location)"
   ]
  },
  {
   "cell_type": "code",
   "execution_count": 7,
   "metadata": {
    "collapsed": false
   },
   "outputs": [
    {
     "data": {
      "text/plain": [
       "{'lower': 1804949, 'lower_colon': 2122407, 'other': 176260, 'problemchars': 0}"
      ]
     },
     "execution_count": 7,
     "metadata": {},
     "output_type": "execute_result"
    }
   ],
   "source": [
    "tag"
   ]
  },
  {
   "cell_type": "markdown",
   "metadata": {},
   "source": [
    "Out of the 4,103,616 tags luckily none of them contain any of characters labeled as problem characters in the Lesson 6 example.\n",
    "\n",
    "### Number of contributors and elements"
   ]
  },
  {
   "cell_type": "code",
   "execution_count": 8,
   "metadata": {
    "collapsed": false
   },
   "outputs": [],
   "source": [
    "from programs import users\n",
    "users,ids = users.process_map(file_location)"
   ]
  },
  {
   "cell_type": "code",
   "execution_count": 13,
   "metadata": {
    "collapsed": false
   },
   "outputs": [
    {
     "data": {
      "text/plain": [
       "'Number of Users: 3026     Number of Ids: 5961251'"
      ]
     },
     "execution_count": 13,
     "metadata": {},
     "output_type": "execute_result"
    }
   ],
   "source": [
    "\"Number of Users: {0}     Number of Ids: {1}\".format(len(users),len(ids))"
   ]
  },
  {
   "cell_type": "code",
   "execution_count": 10,
   "metadata": {
    "collapsed": false
   },
   "outputs": [
    {
     "data": {
      "text/plain": [
       "['557893465', '2878269565', '54327174', '95222955', '3375815992']"
      ]
     },
     "execution_count": 10,
     "metadata": {},
     "output_type": "execute_result"
    }
   ],
   "source": [
    "list(ids)[:5]"
   ]
  },
  {
   "cell_type": "markdown",
   "metadata": {},
   "source": [
    "Out of the millions of people that have visited or live in LA it seems that only 3026 people are responsible for all the points in the LA Open Street Mapb Project. Further analysis will be done after the MongoDB database has been created."
   ]
  },
  {
   "cell_type": "markdown",
   "metadata": {},
   "source": [
    "### Count Nodes and Ways\n",
    "A function was added to the data module which counts the number of ways and nodes elements in the original LA osm file. We'll be using this counter later to verify that import into Mongodb was successful"
   ]
  },
  {
   "cell_type": "code",
   "execution_count": null,
   "metadata": {
    "collapsed": true
   },
   "outputs": [],
   "source": [
    "from programs import data\n",
    "count = data.count_elements(file_location)"
   ]
  },
  {
   "cell_type": "markdown",
   "metadata": {},
   "source": [
    "### Create json\n",
    "For import into Mongodb, the osm file, an XML type file, will be converted into a json using python. During the conversion process street names are checked and converted. The list of conversations was generated manually by reviewing a list of all street suffixes to check for repeats or typos. Processing the map takes significant resources and was precomputed outside of this notebook"
   ]
  },
  {
   "cell_type": "code",
   "execution_count": null,
   "metadata": {
    "collapsed": true
   },
   "outputs": [],
   "source": [
    "if True == False: #Prevents execution\n",
    "    data.process_map(file_location)"
   ]
  },
  {
   "cell_type": "markdown",
   "metadata": {},
   "source": [
    "# MongoDB\n",
    "Mongodb is a popular NoSQL database that stores its data in collections of documents. Documents have a flexible schema, which works well for the OpenStreetMap data as not every node and way has the same \"columns\". If the Open Street Map data was to be stored in a tabular databases many fields would be null, for instance \"Outside Seating\" would be irrelevant for most businsses. Additionally adding extra data would be burdensome as new columns would have to be added to an ever growing table.\n",
    "\n",
    "### Loading Data\n",
    "The JSON file generated by our previous Python method needs to initially be loaded into Mongodb using the following command in the terminal\n",
    "\n",
    ">mongoimport --db test --collection la_map --file los-angeles_california.osm.json\n",
    "\n",
    "Once imported we can begin querying the local Mongodb database using a python driver"
   ]
  },
  {
   "cell_type": "code",
   "execution_count": 1,
   "metadata": {
    "collapsed": false
   },
   "outputs": [],
   "source": [
    "from pymongo import MongoClient\n",
    "client = MongoClient('mongodb://localhost:27017/')\n",
    "db = client.test"
   ]
  },
  {
   "cell_type": "markdown",
   "metadata": {},
   "source": [
    "### Verifying all documents imported"
   ]
  },
  {
   "cell_type": "code",
   "execution_count": 2,
   "metadata": {
    "collapsed": false
   },
   "outputs": [
    {
     "data": {
      "text/plain": [
       "5953758"
      ]
     },
     "execution_count": 2,
     "metadata": {},
     "output_type": "execute_result"
    }
   ],
   "source": [
    "db.la_map.find().count()"
   ]
  },
  {
   "cell_type": "markdown",
   "metadata": {},
   "source": [
    "### Counting Number of Elements in entire collection"
   ]
  },
  {
   "cell_type": "code",
   "execution_count": 16,
   "metadata": {
    "collapsed": false
   },
   "outputs": [
    {
     "name": "stdout",
     "output_type": "stream",
     "text": [
      "<class 'str'>\n",
      "<class 'str'>\n",
      "<class 'str'>\n",
      "<class 'str'>\n",
      "<class 'str'>\n",
      "<class 'str'>\n",
      "<class 'str'>\n",
      "35\n"
     ]
    }
   ],
   "source": [
    "counter = 0\n",
    "for document in db.la_map.find_one():\n",
    "    counter += len(document)\n",
    "print(counter)"
   ]
  },
  {
   "cell_type": "markdown",
   "metadata": {},
   "source": [
    "### See what types of cuisines are available"
   ]
  },
  {
   "cell_type": "code",
   "execution_count": 26,
   "metadata": {
    "collapsed": false,
    "scrolled": true
   },
   "outputs": [
    {
     "data": {
      "text/plain": [
       "['burger',\n",
       " 'japanese',\n",
       " 'american',\n",
       " 'thai',\n",
       " 'korean',\n",
       " 'vietnamese',\n",
       " 'sushi',\n",
       " 'mexican',\n",
       " 'italian',\n",
       " 'roast_beef',\n",
       " 'coffee',\n",
       " 'sandwich',\n",
       " 'hawaiian',\n",
       " 'ice_cream',\n",
       " 'pizza',\n",
       " 'donut',\n",
       " 'fish_and_chips',\n",
       " 'chinese',\n",
       " 'steak_house',\n",
       " 'chicken;mexican',\n",
       " 'chicken',\n",
       " 'Japanese Ramen',\n",
       " 'Northern Chinese',\n",
       " 'taiwanese',\n",
       " 'indian',\n",
       " 'mediterranean',\n",
       " 'cantonese',\n",
       " 'regional',\n",
       " 'coffee_shop',\n",
       " 'french',\n",
       " 'gastropub',\n",
       " 'noodle',\n",
       " 'asian',\n",
       " 'peruvian',\n",
       " 'greek',\n",
       " 'steak;seafood',\n",
       " 'italian;mediterranean',\n",
       " 'deli',\n",
       " 'burger;american',\n",
       " 'barbecue',\n",
       " 'american;bakery',\n",
       " 'seafood',\n",
       " 'Californian',\n",
       " 'burger;mexican',\n",
       " 'breakfast',\n",
       " 'american;brewpub',\n",
       " 'garlic',\n",
       " 'indonesian',\n",
       " 'pizza;chicken',\n",
       " 'catering',\n",
       " 'juice',\n",
       " 'sushi;steak;japanese',\n",
       " 'seafood;steak',\n",
       " 'mexican;pizza',\n",
       " 'seafood;sushi;steak',\n",
       " 'greek;burger',\n",
       " 'seafood;california',\n",
       " 'chinese;sushi',\n",
       " 'seafood;steak;hawaiian',\n",
       " 'sushi;japanese;steak',\n",
       " 'mexican;steak;seafood',\n",
       " 'sushi;california',\n",
       " 'chicken;ice_cream',\n",
       " 'seafood;brewpub',\n",
       " 'hotdog',\n",
       " 'Taiwanese',\n",
       " 'steak',\n",
       " 'sausage',\n",
       " 'armenian',\n",
       " 'mexican; seafood',\n",
       " 'ice_cream;burger',\n",
       " 'Vietnamise',\n",
       " 'cuban',\n",
       " 'chinese,_taiwanese',\n",
       " 'italian;pizza',\n",
       " 'bagel',\n",
       " 'Diner',\n",
       " 'fusion',\n",
       " 'bakery',\n",
       " 'vegetarian',\n",
       " 'mexican;hawaiian',\n",
       " 'german',\n",
       " 'Pizza',\n",
       " 'sichuan',\n",
       " 'russian',\n",
       " 'English',\n",
       " 'american;mexican',\n",
       " 'mexican;mexican_seafood',\n",
       " 'Xin Jiang BBQ',\n",
       " 'yogurt',\n",
       " 'burger;ice_cream',\n",
       " 'brazilian',\n",
       " 'vegan',\n",
       " 'buffet',\n",
       " 'pizza;pasta;burger',\n",
       " 'international',\n",
       " 'spanish',\n",
       " 'afghan',\n",
       " 'frozen_yogurt',\n",
       " 'kebab',\n",
       " 'middle_eastern',\n",
       " 'mongolian',\n",
       " 'sub',\n",
       " 'salad',\n",
       " 'German/Swiss',\n",
       " 'coffee_shop,_sandwiches, ice cream floats, root beer',\n",
       " 'Juice_Bar',\n",
       " 'Cuban',\n",
       " 'pretzels',\n",
       " 'healthy',\n",
       " 'Pizza,_Burgers,_Breakfast',\n",
       " 'Vietnamese_',\n",
       " 'persian',\n",
       " 'Burger_Bar',\n",
       " 'El_Salvadorian',\n",
       " 'Chicken_Sandwiches',\n",
       " 'sandwiches',\n",
       " 'sushi,_asian',\n",
       " 'Frozen_yogurt',\n",
       " 'Mexican,_Indian,_American',\n",
       " 'sushi,_sashimi,_teriyaki',\n",
       " 'mexican,_asian,_fusion',\n",
       " 'korean_bbq',\n",
       " 'Bagel',\n",
       " 'Pizza,_Italian,_sandwiches, pasta',\n",
       " 'Chinese,_Thai',\n",
       " 'Frozen_Yogurt,_Desert,ice cream',\n",
       " 'donuts',\n",
       " 'fondue',\n",
       " 'Chinese_(Taiwanese)',\n",
       " 'Middle_Eastern_Cuisine',\n",
       " 'hot_dog',\n",
       " 'funnel_cake',\n",
       " 'Smoothies',\n",
       " 'cafe',\n",
       " 'pancake',\n",
       " 'Bakery',\n",
       " 'Latin',\n",
       " 'Healthy',\n",
       " 'New_York_Pizza',\n",
       " 'indian; pakistani',\n",
       " 'Brewery,_Pub,_American',\n",
       " 'latin_american',\n",
       " 'chinese_All_you_can_eat',\n",
       " 'BBQ_All_you_can_eat',\n",
       " 'american_All_you_can_eat',\n",
       " 'chinese,_Hawaiian_BBQ',\n",
       " 'indian,_vegetarian',\n",
       " 'mexican_[cafeteria_style,_low_cost,_family_food]',\n",
       " 'mexican,_vegetarian',\n",
       " 'international,_vegan,_salads,_vegetarian',\n",
       " 'boba',\n",
       " 'Mongolian_BBQ',\n",
       " 'Dim_Sum,_Cantonese',\n",
       " 'Cantonese,_Dim_Sum,_Seafood',\n",
       " 'Taiwan,_Chinese',\n",
       " 'Cantonese,_Dim_Sum,_Chinese',\n",
       " 'noodle,_Taiwanese,_Chinese',\n",
       " 'Chinese,_Cantonese',\n",
       " 'Cantonese',\n",
       " 'Seafood,_Chinese',\n",
       " 'chinese,_noodle',\n",
       " 'Healthy_Delicious',\n",
       " 'american,breakfast',\n",
       " 'italian,pizza',\n",
       " 'Yogurt',\n",
       " 'Mexican',\n",
       " 'Asian',\n",
       " 'Seafood_+_Raw_Bar',\n",
       " 'moroccan',\n",
       " 'steakhouse',\n",
       " 'Cheesecake_Factory',\n",
       " 'American_Breakfast',\n",
       " 'Pho',\n",
       " 'sea_food',\n",
       " 'Persian',\n",
       " 'hot_dogs',\n",
       " 'Baked_Goods',\n",
       " 'fast_food',\n",
       " 'country',\n",
       " 'burger;mexican;breakfast',\n",
       " 'soup;salad;pasta',\n",
       " 'steak;chicken;seafood;pasta',\n",
       " 'sandwich;pizza;pasta;soup;salad',\n",
       " 'pancakes;breakfast;burger;sandwich;regional',\n",
       " 'american;steak;chicken;pasta;seafood',\n",
       " 'Chinese,_Szechuan',\n",
       " 'burger;sandwich;breakfast',\n",
       " 'italian;soup;bread',\n",
       " 'fish',\n",
       " 'cake',\n",
       " 'pasta',\n",
       " 'Korean_All_You Can Eat',\n",
       " 'french;american',\n",
       " 'burger;deli;mexican;breakfast',\n",
       " 'breakfast;sandwhich;burger',\n",
       " 'burger;salad;soup;mexican',\n",
       " 'chicken;breakfast;dessert',\n",
       " 'America',\n",
       " 'Japanese_Fusion',\n",
       " 'Pies,coffee,desserts',\n",
       " 'New_Orleans',\n",
       " 'jewish',\n",
       " 'northern_chinese',\n",
       " 'Twists',\n",
       " 'Chinese',\n",
       " 'burger,_hot_dogs',\n",
       " 'pizza,_burger,_american',\n",
       " 'Upscale_comfort_food',\n",
       " 'Upscale_Comfort_Food',\n",
       " 'smoothies',\n",
       " 'Korean_BBQ',\n",
       " 'chinese,seafood',\n",
       " 'taco',\n",
       " 'cajun',\n",
       " 'steakhouse,_italian,_mediterranean',\n",
       " '3',\n",
       " 'burger;chicken',\n",
       " 'seafood,_Dim_sum,_Cantonese',\n",
       " 'bar',\n",
       " 'Juice_Smoothie',\n",
       " 'Fried_Chicken',\n",
       " 'Fast-Food',\n",
       " 'Southeast_Asian',\n",
       " 'south_african',\n",
       " 'BBQ',\n",
       " 'Cajun-Creole',\n",
       " 'burger_mexican_breakfast',\n",
       " 'filipino']"
      ]
     },
     "execution_count": 26,
     "metadata": {},
     "output_type": "execute_result"
    }
   ],
   "source": [
    "db.la_map.distinct(\"cuisine\")"
   ]
  },
  {
   "cell_type": "markdown",
   "metadata": {},
   "source": [
    "### Count Number of Coffee Shops"
   ]
  },
  {
   "cell_type": "code",
   "execution_count": 28,
   "metadata": {
    "collapsed": false
   },
   "outputs": [
    {
     "data": {
      "text/plain": [
       "174"
      ]
     },
     "execution_count": 28,
     "metadata": {},
     "output_type": "execute_result"
    }
   ],
   "source": [
    "db.la_map.find({\"cuisine\":{\"$regex\": u\".*coffee.*\"}}).count()"
   ]
  },
  {
   "cell_type": "markdown",
   "metadata": {},
   "source": [
    "# Appendix\n",
    "\n",
    "## Reference\n",
    "Map Source - https://mapzen.com/data/metro-extracts\n",
    "MongoDB Manual - https://docs.mongodb.org/manual/"
   ]
  }
 ],
 "metadata": {
  "kernelspec": {
   "display_name": "Python 3",
   "language": "python",
   "name": "python3"
  },
  "language_info": {
   "codemirror_mode": {
    "name": "ipython",
    "version": 3
   },
   "file_extension": ".py",
   "mimetype": "text/x-python",
   "name": "python",
   "nbconvert_exporter": "python",
   "pygments_lexer": "ipython3",
   "version": "3.4.3"
  }
 },
 "nbformat": 4,
 "nbformat_minor": 0
}
