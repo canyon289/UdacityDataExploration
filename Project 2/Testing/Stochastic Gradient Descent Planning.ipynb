{
 "cells": [
  {
   "cell_type": "markdown",
   "metadata": {},
   "source": [
    "# Practice Gradient Descent\n",
    "\n",
    "This notebook serves as an exploratory analysis for the gradient descent portion of Project 2"
   ]
  },
  {
   "cell_type": "code",
   "execution_count": 9,
   "metadata": {
    "collapsed": false,
    "scrolled": false
   },
   "outputs": [],
   "source": [
    "import pandas as pd\n",
    "import matplotlib.pyplot as plt\n",
    "# %matplotlib inline\n",
    "plt.style.use('ggplot')\n",
    "\n",
    "df = pd.read_csv(\"turnstile_data_master_with_weather.csv\")"
   ]
  },
  {
   "cell_type": "markdown",
   "metadata": {},
   "source": [
    "## Stochastic Gradient Descent with no Min Max Scaling"
   ]
  },
  {
   "cell_type": "code",
   "execution_count": 8,
   "metadata": {
    "collapsed": false
   },
   "outputs": [],
   "source": [
    "# Preprocess data\n",
    "f_df = df[[\"rain\"]]\n",
    "f_df.loc[:,\"Dummy\"] = 1\n",
    "X_Names = f_df.columns"
   ]
  },
  {
   "cell_type": "code",
   "execution_count": 12,
   "metadata": {
    "collapsed": false
   },
   "outputs": [
    {
     "name": "stdout",
     "output_type": "stream",
     "text": [
      "   i       rain       Dummy\n",
      "0  0  25.048012  503.569032\n",
      "1  1  18.506832  501.844940\n",
      "2  2  18.780333  516.222678\n",
      "3  3  36.250204  523.216323\n",
      "4  4   6.380242  512.902947\n",
      "5  5  16.643028  513.908228\n",
      "6  6   8.112182  503.817181\n",
      "7  7  23.174820  500.906068\n",
      "8  8  27.106621  500.053159\n",
      "9  9  19.540761  499.879705\n"
     ]
    }
   ],
   "source": [
    "from sklearn.linear_model import SGDRegressor\n",
    "clf = SGDRegressor(n_iter=800, alpha=0.00001)\n",
    "\n",
    "lists = []\n",
    "for i in range(10):\n",
    "    clf = clf.fit(f_df.values, df[\"ENTRIESn_hourly\"].values)\n",
    "    a,b = clf.coef_\n",
    "    lists.append([i,a,b])\n",
    "    \n",
    "print(pd.DataFrame(lists, columns= [\"i\"] + list(X_Names)))"
   ]
  },
  {
   "cell_type": "markdown",
   "metadata": {},
   "source": [
    "## Stochastic Gradient Descent with Min Max Scaling"
   ]
  },
  {
   "cell_type": "code",
   "execution_count": 15,
   "metadata": {
    "collapsed": false,
    "scrolled": true
   },
   "outputs": [
    {
     "name": "stdout",
     "output_type": "stream",
     "text": [
      "   i      rain     Dummy\n",
      "0  0  0.009659  0.006213\n",
      "1  1 -0.001307  0.006149\n",
      "2  2  0.007083 -0.008698\n",
      "3  3  0.013492 -0.003389\n",
      "4  4  0.006496  0.003028\n",
      "5  5 -0.000209 -0.003420\n",
      "6  6  0.010127  0.000697\n",
      "7  7  0.007923  0.000370\n",
      "8  8  0.008153 -0.001107\n",
      "9  9  0.002732  0.001751\n"
     ]
    }
   ],
   "source": [
    "clf_minmax = SGDRegressor(n_iter=800, alpha=0.001)\n",
    "\n",
    "from sklearn.preprocessing import MinMaxScaler, StandardScaler\n",
    "y_scaler = StandardScaler()\n",
    "y = y_scaler.fit_transform(df[\"ENTRIESn_hourly\"].values)\n",
    "\n",
    "lists = []\n",
    "for i in range(10):\n",
    "    clf = clf.fit(f_df.values,y)\n",
    "    a,b = clf.coef_\n",
    "    lists.append([i,a,b])\n",
    "    \n",
    "print(pd.DataFrame(lists, columns= [\"i\"] + list(X_Names)))"
   ]
  }
 ],
 "metadata": {
  "kernelspec": {
   "display_name": "Python 3",
   "language": "python",
   "name": "python3"
  },
  "language_info": {
   "codemirror_mode": {
    "name": "ipython",
    "version": 3
   },
   "file_extension": ".py",
   "mimetype": "text/x-python",
   "name": "python",
   "nbconvert_exporter": "python",
   "pygments_lexer": "ipython3",
   "version": "3.4.1"
  }
 },
 "nbformat": 4,
 "nbformat_minor": 0
}
