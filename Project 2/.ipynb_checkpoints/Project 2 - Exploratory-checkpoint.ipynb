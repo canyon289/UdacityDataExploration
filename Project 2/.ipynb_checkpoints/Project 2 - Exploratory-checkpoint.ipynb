{
 "cells": [
  {
   "cell_type": "markdown",
   "metadata": {},
   "source": [
    "# Project 2 Analysis"
   ]
  },
  {
   "cell_type": "markdown",
   "metadata": {},
   "source": [
    "## Create Dataframe from CSV"
   ]
  },
  {
   "cell_type": "code",
   "execution_count": 3,
   "metadata": {
    "collapsed": false
   },
   "outputs": [],
   "source": [
    "import pandas as pd\n",
    "import numpy as np\n",
    "import matplotlib.pyplot as plt\n",
    "%matplotlib inline\n",
    "plt.style.use('ggplot')\n",
    "\n",
    "df = pd.read_csv(\"turnstile_data_master_with_weather.csv\")"
   ]
  },
  {
   "cell_type": "markdown",
   "metadata": {},
   "source": [
    "## Section 1 - Statistical Tests\n",
    "When evaluating the difference between of the means of ridership on rainy days versus non rainy days a Mann Whitney U test was chosen as the distibutions looked to be very non parametric. The null hypothesis under consideration that the mean ridership between rainy and non rainy days were equal. The test is a two tailed test with a p value 5% significance level.\n",
    "\n",
    "$$\n",
    "\\mu_{c} = \\text{Population mean of ridership on rainy day} \\\\\n",
    "\\mu_{i} = \\text{Population mean of ridership on non rainy day} \\\\\n",
    "H_{O}: \\mu_{c} = \\mu_{i} \\\\\n",
    "H_{A}: \\mu_{c} \\neq \\mu_{i} \n",
    "$$\n"
   ]
  },
  {
   "cell_type": "code",
   "execution_count": 4,
   "metadata": {
    "collapsed": false
   },
   "outputs": [
    {
     "data": {
      "text/html": [
       "<div>\n",
       "<table border=\"1\" class=\"dataframe\">\n",
       "  <thead>\n",
       "    <tr style=\"text-align: right;\">\n",
       "      <th></th>\n",
       "      <th></th>\n",
       "      <th>ENTRIESn_hourly</th>\n",
       "    </tr>\n",
       "    <tr>\n",
       "      <th>rain</th>\n",
       "      <th></th>\n",
       "      <th></th>\n",
       "    </tr>\n",
       "  </thead>\n",
       "  <tbody>\n",
       "    <tr>\n",
       "      <th rowspan=\"8\" valign=\"top\">No Rain</th>\n",
       "      <th>count</th>\n",
       "      <td>44104.000000</td>\n",
       "    </tr>\n",
       "    <tr>\n",
       "      <th>mean</th>\n",
       "      <td>1105.446377</td>\n",
       "    </tr>\n",
       "    <tr>\n",
       "      <th>std</th>\n",
       "      <td>2370.527674</td>\n",
       "    </tr>\n",
       "    <tr>\n",
       "      <th>min</th>\n",
       "      <td>0.000000</td>\n",
       "    </tr>\n",
       "    <tr>\n",
       "      <th>25%</th>\n",
       "      <td>41.000000</td>\n",
       "    </tr>\n",
       "    <tr>\n",
       "      <th>50%</th>\n",
       "      <td>282.000000</td>\n",
       "    </tr>\n",
       "    <tr>\n",
       "      <th>75%</th>\n",
       "      <td>1103.250000</td>\n",
       "    </tr>\n",
       "    <tr>\n",
       "      <th>max</th>\n",
       "      <td>51839.000000</td>\n",
       "    </tr>\n",
       "    <tr>\n",
       "      <th rowspan=\"8\" valign=\"top\">Rain</th>\n",
       "      <th>count</th>\n",
       "      <td>87847.000000</td>\n",
       "    </tr>\n",
       "    <tr>\n",
       "      <th>mean</th>\n",
       "      <td>1090.278780</td>\n",
       "    </tr>\n",
       "    <tr>\n",
       "      <th>std</th>\n",
       "      <td>2320.004938</td>\n",
       "    </tr>\n",
       "    <tr>\n",
       "      <th>min</th>\n",
       "      <td>0.000000</td>\n",
       "    </tr>\n",
       "    <tr>\n",
       "      <th>25%</th>\n",
       "      <td>38.000000</td>\n",
       "    </tr>\n",
       "    <tr>\n",
       "      <th>50%</th>\n",
       "      <td>278.000000</td>\n",
       "    </tr>\n",
       "    <tr>\n",
       "      <th>75%</th>\n",
       "      <td>1111.000000</td>\n",
       "    </tr>\n",
       "    <tr>\n",
       "      <th>max</th>\n",
       "      <td>43199.000000</td>\n",
       "    </tr>\n",
       "  </tbody>\n",
       "</table>\n",
       "</div>"
      ],
      "text/plain": [
       "               ENTRIESn_hourly\n",
       "rain                          \n",
       "No Rain count     44104.000000\n",
       "        mean       1105.446377\n",
       "        std        2370.527674\n",
       "        min           0.000000\n",
       "        25%          41.000000\n",
       "        50%         282.000000\n",
       "        75%        1103.250000\n",
       "        max       51839.000000\n",
       "Rain    count     87847.000000\n",
       "        mean       1090.278780\n",
       "        std        2320.004938\n",
       "        min           0.000000\n",
       "        25%          38.000000\n",
       "        50%         278.000000\n",
       "        75%        1111.000000\n",
       "        max       43199.000000"
      ]
     },
     "execution_count": 4,
     "metadata": {},
     "output_type": "execute_result"
    }
   ],
   "source": [
    "rain_df = df[['ENTRIESn_hourly', 'rain']]\n",
    "rain_dict = {0:\"Rain\", 1:\"No Rain\"}\n",
    "rain_df = rain_df.replace({\"rain\":rain_dict})\n",
    "\n",
    "rain_df.groupby(\"rain\").describe()"
   ]
  },
  {
   "cell_type": "code",
   "execution_count": 5,
   "metadata": {
    "collapsed": false
   },
   "outputs": [
    {
     "data": {
      "text/plain": [
       "MannwhitneyuResult(statistic=1924409167.0, pvalue=0.019309634413792565)"
      ]
     },
     "execution_count": 5,
     "metadata": {},
     "output_type": "execute_result"
    }
   ],
   "source": [
    "from scipy.stats import mannwhitneyu\n",
    "\n",
    "# Split into Rain and No Rain groups\n",
    "values = [sub_df['ENTRIESn_hourly'] for name, sub_df in rain_df.groupby('rain')]\n",
    "\n",
    "#Check for significance level\n",
    "mannwhitneyu(*values)"
   ]
  },
  {
   "cell_type": "markdown",
   "metadata": {},
   "source": [
    "### Results\n",
    "The null hypothesis cannot be rejected at a 5% p value. It is not likely that the mean ridership is dependent on the condition of the rain"
   ]
  },
  {
   "cell_type": "markdown",
   "metadata": {},
   "source": [
    "## Section 2 -Stochastic Gradient Descent\n",
    "I tried to fit a linear model with Stochastic Gradient Descent solely for the reason to learn more about the Stochastic Gradient Descent technique"
   ]
  },
  {
   "cell_type": "code",
   "execution_count": 41,
   "metadata": {
    "collapsed": false
   },
   "outputs": [],
   "source": [
    "from sklearn.linear_model import SGDRegressor\n",
    "from sklearn.preprocessing import StandardScaler\n",
    "\n",
    "# Create a function to fit models\n",
    "def fit_SGD(f_df, y):\n",
    "    clf = SGDRegressor(n_iter=400, alpha=0.0001, random_state=123)\n",
    "    X_Names = f_df.columns\n",
    "    \n",
    "    print(f_df.head())\n",
    "    #Scale Inputs\n",
    "    scaler = StandardScaler()\n",
    "    features_train_scaled = scaler.fit_transform(f_df.values)\n",
    "    \n",
    "    clf = clf.fit(np.vstack(features_train_scaled), y.values)\n",
    "    \n",
    "    print(\"Stochastic Descent Feature coefficients\")\n",
    "    print(dict(zip(X_Names, clf.coef_,)))\n",
    "    print(clf.intercept_)\n",
    "    print(\"R Score\")\n",
    "    print(clf.score(np.vstack(features_train_scaled), y.values))\n",
    "\n",
    "    return"
   ]
  },
  {
   "cell_type": "markdown",
   "metadata": {},
   "source": [
    "For this linear regression I have chosen the two variables listed below. At time of writing I am using intuition to decide what parameters may be associated with ridership. For this particular regression I assumed that the level of precipitation and the dew point temperature, which is associated with humidity levels, may indicate types of weather in which people will ride the subway more."
   ]
  },
  {
   "cell_type": "code",
   "execution_count": 40,
   "metadata": {
    "collapsed": false,
    "scrolled": true
   },
   "outputs": [],
   "source": [
    "# Create a features dataframe\n",
    "f_df = df[[\"precipi\", \"meandewpti\"]]\n",
    "y = df[\"ENTRIESn_hourly\"]\n",
    "\n"
   ]
  },
  {
   "cell_type": "code",
   "execution_count": null,
   "metadata": {
    "collapsed": true
   },
   "outputs": [],
   "source": [
    "# Run the model\n",
    "fit_SGD(f_df, y)"
   ]
  },
  {
   "cell_type": "markdown",
   "metadata": {},
   "source": [
    "The low Goodness of Fit value indicates that the variables chosen in the model have very little predictive power of the outcome variable. In this case since the Goodness of Fit is so low I would not say this is a good model to predict ridership"
   ]
  },
  {
   "cell_type": "markdown",
   "metadata": {},
   "source": [
    "## Section 3 - Visualizations "
   ]
  },
  {
   "cell_type": "code",
   "execution_count": null,
   "metadata": {
    "collapsed": false,
    "scrolled": false
   },
   "outputs": [],
   "source": [
    "rain_df.hist(by = 'rain', sharex = True, figsize = (12, 6), bins = 50)"
   ]
  },
  {
   "cell_type": "markdown",
   "metadata": {},
   "source": [
    "### Revised Histogram\n",
    "Due to outliers stretching the histogram is displayed again below with a smaller X Axis"
   ]
  },
  {
   "cell_type": "code",
   "execution_count": null,
   "metadata": {
    "collapsed": false,
    "scrolled": false
   },
   "outputs": [],
   "source": [
    "rain_df[rain_df[\"ENTRIESn_hourly\"] < 4000].hist(by = 'rain', sharex = True, figsize = (12, 6), bins = 50)"
   ]
  },
  {
   "cell_type": "markdown",
   "metadata": {},
   "source": [
    "### Additional Exploratory Visualizations\n",
    "Curious to see when peak traffic occurrs"
   ]
  },
  {
   "cell_type": "code",
   "execution_count": 49,
   "metadata": {
    "collapsed": false
   },
   "outputs": [
    {
     "data": {
      "text/plain": [
       "<matplotlib.text.Text at 0xaf9db70>"
      ]
     },
     "execution_count": 49,
     "metadata": {},
     "output_type": "execute_result"
    },
    {
     "data": {
      "image/png": "[encoded data removed]",
      "text/plain": [
       "<matplotlib.figure.Figure at 0xaf7c588>"
      ]
     },
     "metadata": {},
     "output_type": "display_data"
    }
   ],
   "source": [
    "ax = df[['Hour', 'ENTRIESn_hourly', 'EXITSn_hourly']].groupby('Hour').mean().plot(kind= \"line\", figsize = (12, 8),\\\n",
    "        title = \"Entries and Exits Per hour\")\n",
    "ax.set_ylabel(\"Average Number of Riders\")"
   ]
  },
  {
   "cell_type": "markdown",
   "metadata": {},
   "source": [
    "### Section 4 Conclusion\n",
    "From my analysis it does not seem that the rain affects how many people ride the subway. This was shown in both the Whitney U test, as well as a regression model which is not shown. The Whitney U test showed a p value of 20% which didn't reach our 5% benchmark. The regression similiarly had a very low coefficient of determination "
   ]
  },
  {
   "cell_type": "code",
   "execution_count": 46,
   "metadata": {
    "collapsed": false
   },
   "outputs": [
    {
     "data": {
      "text/plain": [
       "(131951, 22)"
      ]
     },
     "execution_count": 46,
     "metadata": {},
     "output_type": "execute_result"
    }
   ],
   "source": [
    "df.shape"
   ]
  },
  {
   "cell_type": "markdown",
   "metadata": {},
   "source": [
    "###Reflection\n",
    "There were two datasets provided for this project, an original, and an improved dataset. The original dataset had 131951 values and 22 columns whereas the imrpoved dataset has 42650 rows and 27 columns. For this notebook I used the original dataset.\n",
    "\n",
    "The dataset had all the values necessary. For the rain column the 0 and 1 values needed to be recoded to aid the histogram generation. Otherwise the dataset was fairly self explanatory.\n",
    "\n",
    "For the analysis it was difficult with inuition to find variables that correlated with ridership with either method. Stochastic gradient decesnt was chosen solely for the purpose of learning for the notebook creator. One consideration howeverr was the speed Gradient Descent holds when attempting to regress over many features versus linear regression which can become very slow as feater size gets large.However some values such as the learning rate and iterations were chosen at random. Feature scaling was performed to attempt to normalize all the inputs variables. Further development of this notebook will also use methods such as Grid Search and Principal Component Ananylyis as further preprocessing attempts in an attempt to improve the regression prediction model\n"
   ]
  },
  {
   "cell_type": "markdown",
   "metadata": {},
   "source": [
    "## Documentation used\n",
    "\n",
    "* http://pandas.pydata.org/pandas-docs/stable/reshaping.html\n",
    "* http://stackoverflow.com/questions/20250771/remap-values-in-pandas-column-with-a-dict"
   ]
  },
  {
   "cell_type": "markdown",
   "metadata": {},
   "source": [
    "### Appendix\n",
    "Linear Model in sklearn for reference"
   ]
  },
  {
   "cell_type": "code",
   "execution_count": null,
   "metadata": {
    "collapsed": true
   },
   "outputs": [],
   "source": [
    "from sklearn.linear_model import LinearRegression\n",
    "\n",
    "# Create a function to fit models\n",
    "def fit_lm(f_df, y):\n",
    "    clf = LinearRegression()\n",
    "    X_Names = f_df.columns\n",
    "    \n",
    "    #Scale Inputs\n",
    "    scaler = StandardScaler()\n",
    "    features_train_scaled = scaler.fit_transform(f_df.values)\n",
    "    \n",
    "    #Only need Vstack is creating regression with one feature\n",
    "    clf = clf.fit(np.vstack(f_df.values), y)\n",
    "    \n",
    "    print(\"Linear Feature coefficients\")\n",
    "    print(dict(zip(X_Names, clf.coef_,)))\n",
    "    print(clf.intercept_)\n",
    "    return"
   ]
  }
 ],
 "metadata": {
  "kernelspec": {
   "display_name": "Python 3",
   "language": "python",
   "name": "python3"
  },
  "language_info": {
   "codemirror_mode": {
    "name": "ipython",
    "version": 3
   },
   "file_extension": ".py",
   "mimetype": "text/x-python",
   "name": "python",
   "nbconvert_exporter": "python",
   "pygments_lexer": "ipython3",
   "version": "3.4.1"
  }
 },
 "nbformat": 4,
 "nbformat_minor": 0
}
