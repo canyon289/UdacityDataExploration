{
 "cells": [
  {
   "cell_type": "markdown",
   "metadata": {},
   "source": [
    "# Project 2 Analysis"
   ]
  },
  {
   "cell_type": "markdown",
   "metadata": {},
   "source": [
    "## Create Dataframe from CSV"
   ]
  },
  {
   "cell_type": "code",
   "execution_count": 4,
   "metadata": {
    "collapsed": false
   },
   "outputs": [],
   "source": [
    "import pandas as pd\n",
    "import numpy as np\n",
    "import matplotlib.pyplot as plt\n",
    "import sys\n",
    "%matplotlib inline\n",
    "import sys\n",
    "sys.path.append(\"/Data\")\n",
    "\n",
    "plt.style.use('ggplot')\n",
    "df = pd.read_csv(\"turnstile_data_master_with_weather.csv\")"
   ]
  },
  {
   "cell_type": "markdown",
   "metadata": {},
   "source": [
    "## Section 1 - Statistical Tests\n",
    "When evaluating the difference between of the means of ridership on rainy days versus non rainy days a Mann Whitney U test was chosen as the distibutions were non parametric. As the visualizations show below the distributions are similar in shape as well. The null hypothesis under consideration is that the median ridership between rainy and non rainy days were equal. We will be testing as two tailed test with a p value at the 5% significance level.\n",
    "\n",
    "$$\n",
    "H_{O}:\\text{The distribution of ridership on rainy and non rainy days are identical} \\\\\n",
    "H_{A}: \\text{The medians of the two groups are not equal}\n",
    "$$\n"
   ]
  },
  {
   "cell_type": "code",
   "execution_count": 5,
   "metadata": {
    "collapsed": false,
    "scrolled": true
   },
   "outputs": [
    {
     "data": {
      "text/html": [
       "<div>\n",
       "<table border=\"1\" class=\"dataframe\">\n",
       "  <thead>\n",
       "    <tr style=\"text-align: right;\">\n",
       "      <th></th>\n",
       "      <th></th>\n",
       "      <th>ENTRIESn_hourly</th>\n",
       "    </tr>\n",
       "    <tr>\n",
       "      <th>rain</th>\n",
       "      <th></th>\n",
       "      <th></th>\n",
       "    </tr>\n",
       "  </thead>\n",
       "  <tbody>\n",
       "    <tr>\n",
       "      <th rowspan=\"8\" valign=\"top\">No Rain</th>\n",
       "      <th>count</th>\n",
       "      <td>44104.000000</td>\n",
       "    </tr>\n",
       "    <tr>\n",
       "      <th>mean</th>\n",
       "      <td>1105.446377</td>\n",
       "    </tr>\n",
       "    <tr>\n",
       "      <th>std</th>\n",
       "      <td>2370.527674</td>\n",
       "    </tr>\n",
       "    <tr>\n",
       "      <th>min</th>\n",
       "      <td>0.000000</td>\n",
       "    </tr>\n",
       "    <tr>\n",
       "      <th>25%</th>\n",
       "      <td>41.000000</td>\n",
       "    </tr>\n",
       "    <tr>\n",
       "      <th>50%</th>\n",
       "      <td>282.000000</td>\n",
       "    </tr>\n",
       "    <tr>\n",
       "      <th>75%</th>\n",
       "      <td>1103.250000</td>\n",
       "    </tr>\n",
       "    <tr>\n",
       "      <th>max</th>\n",
       "      <td>51839.000000</td>\n",
       "    </tr>\n",
       "    <tr>\n",
       "      <th rowspan=\"8\" valign=\"top\">Rain</th>\n",
       "      <th>count</th>\n",
       "      <td>87847.000000</td>\n",
       "    </tr>\n",
       "    <tr>\n",
       "      <th>mean</th>\n",
       "      <td>1090.278780</td>\n",
       "    </tr>\n",
       "    <tr>\n",
       "      <th>std</th>\n",
       "      <td>2320.004938</td>\n",
       "    </tr>\n",
       "    <tr>\n",
       "      <th>min</th>\n",
       "      <td>0.000000</td>\n",
       "    </tr>\n",
       "    <tr>\n",
       "      <th>25%</th>\n",
       "      <td>38.000000</td>\n",
       "    </tr>\n",
       "    <tr>\n",
       "      <th>50%</th>\n",
       "      <td>278.000000</td>\n",
       "    </tr>\n",
       "    <tr>\n",
       "      <th>75%</th>\n",
       "      <td>1111.000000</td>\n",
       "    </tr>\n",
       "    <tr>\n",
       "      <th>max</th>\n",
       "      <td>43199.000000</td>\n",
       "    </tr>\n",
       "  </tbody>\n",
       "</table>\n",
       "</div>"
      ],
      "text/plain": [
       "               ENTRIESn_hourly\n",
       "rain                          \n",
       "No Rain count     44104.000000\n",
       "        mean       1105.446377\n",
       "        std        2370.527674\n",
       "        min           0.000000\n",
       "        25%          41.000000\n",
       "        50%         282.000000\n",
       "        75%        1103.250000\n",
       "        max       51839.000000\n",
       "Rain    count     87847.000000\n",
       "        mean       1090.278780\n",
       "        std        2320.004938\n",
       "        min           0.000000\n",
       "        25%          38.000000\n",
       "        50%         278.000000\n",
       "        75%        1111.000000\n",
       "        max       43199.000000"
      ]
     },
     "execution_count": 5,
     "metadata": {},
     "output_type": "execute_result"
    }
   ],
   "source": [
    "rain_df = df[['ENTRIESn_hourly', 'rain']]\n",
    "rain_dict = {0:\"Rain\", 1:\"No Rain\"}\n",
    "rain_df = rain_df.replace({\"rain\":rain_dict})\n",
    "rain_df.groupby(\"rain\").describe()"
   ]
  },
  {
   "cell_type": "markdown",
   "metadata": {},
   "source": [
    "### Results\n",
    "Please see R results belows and full explanation as to my issues with sklearn. From the simple analysis above though it does seem like the mean and max ridership vary between rainy days and non rainy days."
   ]
  },
  {
   "cell_type": "markdown",
   "metadata": {},
   "source": [
    "## Section 2 -Stochastic Gradient Descent\n",
    "I tried to fit a linear model with Stochastic Gradient Descent solely for the reason to learn more about the Stochastic Gradient Descent technique. For this linear regression I have chosen the two variables listed below. At time of writing I am using intuition to decide what parameters may be associated with ridership.\n",
    "\n",
    "Numerous pairings were tested with the weather, all with very little success. However dummy columns were created for the hour of entry and the unit. It was assumed that the unit generally corresponded to stations. However as bigger stations may have more than one unit, this column may be biasing entries. Nonetheless after adding it to the model it does seem to explain some of the variability.\n",
    "\n",
    "The last engineered variable was the week or weekend categorical variable. It is likely that ridership is affected by the US work week. To add this to the regression the date was converted to a numerical representation, then Saturday and Sunday were converted to a factor of 1, and weekdays 0:"
   ]
  },
  {
   "cell_type": "code",
   "execution_count": 6,
   "metadata": {
    "collapsed": false
   },
   "outputs": [],
   "source": [
    "# Create a features dataframe\n",
    "f_df = df[[\"Hour\", \"UNIT\"]]\n",
    "y = df[\"ENTRIESn_hourly\"]\n",
    "\n",
    "#Make Dummy columns for Hours and Train Station\n",
    "f_df = pd.get_dummies(f_df)\n",
    "\n",
    "#Convert Weekday or Weekend to categorical variable\n",
    "day = pd.to_datetime(df[\"DATEn\"]).dt.dayofweek.apply(lambda x : float((x  >4)))\n",
    "day.name = \"Weekend\"\n",
    "f_df = f_df.join(day)\n",
    "X_Names = f_df.columns"
   ]
  },
  {
   "cell_type": "code",
   "execution_count": 7,
   "metadata": {
    "collapsed": false
   },
   "outputs": [
    {
     "name": "stdout",
     "output_type": "stream",
     "text": [
      "0.412752904497\n"
     ]
    }
   ],
   "source": [
    "from sklearn.linear_model import SGDRegressor\n",
    "from sklearn.preprocessing import StandardScaler, OneHotEncoder\n",
    "\n",
    "#Scale Inputs\n",
    "scaler = StandardScaler()\n",
    "features_train_scaled = scaler.fit_transform(f_df.values)\n",
    "\n",
    "clf = SGDRegressor(n_iter=10, alpha=0.0001, random_state=123)\n",
    "clf = clf.fit(np.vstack(features_train_scaled), y.values)\n",
    "\n",
    "#print(\"Stochastic Descent Feature coefficients\")\n",
    "#print(dict(zip(X_Names, clf.coef_,)))\n",
    "#print(clf.intercept_)\n",
    "#print(\"R Score\")\n",
    "print(clf.score(np.vstack(features_train_scaled), y.values))"
   ]
  },
  {
   "cell_type": "code",
   "execution_count": 16,
   "metadata": {
    "collapsed": false
   },
   "outputs": [
    {
     "data": {
      "text/plain": [
       "<matplotlib.text.Text at 0x97e36a0>"
      ]
     },
     "execution_count": 16,
     "metadata": {},
     "output_type": "execute_result"
    },
    {
     "data": {
      "image/png": "[encoded data removed]",
      "text/plain": [
       "<matplotlib.figure.Figure at 0x98a62b0>"
      ]
     },
     "metadata": {},
     "output_type": "display_data"
    }
   ],
   "source": [
    "plt.figure(figsize=(20,10)) \n",
    "plt.plot(y.values-clf.predict(np.vstack(features_train_scaled)))\n",
    "plt.title(\"Residuals Plot\")"
   ]
  },
  {
   "cell_type": "markdown",
   "metadata": {},
   "source": [
    "When testing weather effects a the Goodness of Fit value was quite low, close to zero. The low Goodness of Fit value indicated that the features chosen had very little predictive power of the outcome variable.\n",
    "\n",
    "It was decided to try and use the features of hours, day of the week, and units to predict ridership. None of these columns lent themselves regression out of the box. All three features required some preprocessing steps to turn them from linear values into categorical variables. The day of the week required some datetime processing to be recoded into a 0 and 1 factor for weekday or weekend. Ultimately though the feature engineering lead to better results yielding a .44 Coefficient of Determination, much greater than any regression found by myself through regression.\n",
    "\n",
    "An attempt was made to avoid \"Kitchen Sink Regression\" as the coefficient of determination monotonically increases with the number of features added but may not actually lead to a better model.\n",
    "\n",
    "https://en.wikipedia.org/wiki/Kitchen_sink_regression"
   ]
  },
  {
   "cell_type": "markdown",
   "metadata": {},
   "source": [
    "## Section 3 - Visualizations "
   ]
  },
  {
   "cell_type": "code",
   "execution_count": null,
   "metadata": {
    "collapsed": false,
    "scrolled": false
   },
   "outputs": [],
   "source": [
    "a = rain_df.hist(by = 'rain', sharex = True, sharey = True,  figsize = (12, 6), bins = 50)\n",
    "#Need to set labels independently\n",
    "a[0].set_ylabel(\"Count of Occurences of Number of Entries\")"
   ]
  },
  {
   "cell_type": "markdown",
   "metadata": {},
   "source": [
    "### Revised Histogram\n",
    "Due to outliers stretching the histogram is displayed again below with a smaller X Axis. While the distribution peaks look different it's actually because the binning range has decreased, splitting the larger bins above into smaller bins."
   ]
  },
  {
   "cell_type": "code",
   "execution_count": null,
   "metadata": {
    "collapsed": false,
    "scrolled": true
   },
   "outputs": [],
   "source": [
    "a = rain_df[rain_df[\"ENTRIESn_hourly\"] < 4000].hist(by = 'rain', sharex = True, sharey= True, figsize = (12, 6), bins = 50)\n",
    "a[0].set_ylabel(\"Count of Occurences of Number of Entries\")"
   ]
  },
  {
   "cell_type": "markdown",
   "metadata": {},
   "source": [
    "### Additional Exploratory Visualizations\n",
    "Curious to see when peak traffic occurrs"
   ]
  },
  {
   "cell_type": "code",
   "execution_count": null,
   "metadata": {
    "collapsed": false
   },
   "outputs": [],
   "source": [
    "ax = df[['Hour', 'ENTRIESn_hourly', 'EXITSn_hourly']].groupby('Hour').mean().plot(kind= \"line\", figsize = (12, 8),\\\n",
    "        title = \"Entries and Exits Per hour\")\n",
    "ax.set_ylabel(\"Average Number of Riders\")"
   ]
  },
  {
   "cell_type": "markdown",
   "metadata": {},
   "source": [
    "### Section 4 Conclusion\n",
    "Please see below for my comments about the difference in distributions using the Mann and Whitney U test"
   ]
  },
  {
   "cell_type": "markdown",
   "metadata": {},
   "source": [
    "### Reflection\n",
    "There were two datasets provided for this project, an original, and an improved dataset. The original dataset had 131951 values and 22 columns whereas the improved dataset has 42650 rows and 27 columns. For this notebook I used the original dataset.\n",
    "\n",
    "The dataset had all the values necessary. For the rain column the 0 and 1 values needed to be recoded to aid the histogram generation. Otherwise the dataset was fairly self explanatory. \n",
    "\n",
    "For the analysis it was difficult with inuition to find variables that correlated with ridership with either method. Stochastic gradient decesnt was chosen solely for the purpose of learning for the notebook creator. One consideration however was the speed Gradient Descent holds when attempting to regress over many features versus linear regression which can become very slow as feater size gets large. However some values such as the learning rate and iterations were chosen at random. Feature scaling was performed to attempt to normalize all the inputs variables.\n",
    "\n",
    "When selecting features, the weather features seemed to explain very little of the variability in ridership. Turning hours, days, and units into categorical variables yielded much better results."
   ]
  },
  {
   "cell_type": "markdown",
   "metadata": {},
   "source": [
    "### Appendix\n",
    "##### Linear Model\n",
    "Linear Model in sklearn for reference"
   ]
  },
  {
   "cell_type": "code",
   "execution_count": null,
   "metadata": {
    "collapsed": true
   },
   "outputs": [],
   "source": [
    "from sklearn.linear_model import LinearRegression\n",
    "\n",
    "# Create a function to fit models\n",
    "def fit_lm(f_df, y):\n",
    "    clf = LinearRegression()\n",
    "    X_Names = f_df.columns\n",
    "    \n",
    "    #Scale Inputs\n",
    "    scaler = StandardScaler()\n",
    "    features_train_scaled = scaler.fit_transform(f_df.values)\n",
    "    \n",
    "    #Only need Vstack is creating regression with one feature\n",
    "    clf = clf.fit(np.vstack(f_df.values), y)\n",
    "    \n",
    "    print(\"Linear Feature coefficients\")\n",
    "    print(dict(zip(X_Names, clf.coef_,)))\n",
    "    print(clf.intercept_)\n",
    "    return"
   ]
  },
  {
   "cell_type": "markdown",
   "metadata": {},
   "source": [
    "#### Issues with SKLearn and Mann Whitney Test\n",
    "The Mann Whitney test is causing issues on my particular computer in Python. It seems that the sklearn module from my computer is causing issues for me and other students. I ran the program in R and fained other values, even ones that are different than what my evalution said they should be. See below\n",
    "\n",
    "https://discussions.udacity.com/t/mann-whitney-u-test-on-improved-dataset-yields-p-nan/4470"
   ]
  },
  {
   "cell_type": "code",
   "execution_count": null,
   "metadata": {
    "collapsed": false
   },
   "outputs": [],
   "source": [
    "from scipy.stats import mannwhitneyu\n",
    "\n",
    "for file in [\"turnstile_data_master_with_weather.csv\", \"turnstile_weather_v2.csv\" ]:\n",
    "    df = pd.read_csv(file)\n",
    "    rain_df = df[['ENTRIESn_hourly', 'rain']]\n",
    "    values = [sub_df['ENTRIESn_hourly'] for name, sub_df in rain_df.groupby('rain')]\n",
    "    \n",
    "    #Check for significance level\n",
    "    print(mannwhitneyu(*values))"
   ]
  },
  {
   "cell_type": "markdown",
   "metadata": {},
   "source": [
    "#### R Code\n",
    "<img src=\"RWilcoxTest.png\">\n",
    "\n",
    "I'll comment based on the results from R, which I understand should be correct regardless of system setup. In my case I will be using the original dataset to remain consistent with the rest of my notebook.\n",
    "\n",
    "At the 5% significance value I would reject the null hypothesis that the distributions of entries on rainy days and entries on non rainy days are similar."
   ]
  },
  {
   "cell_type": "markdown",
   "metadata": {},
   "source": [
    "## Documentation used\n",
    "\n",
    "* http://pandas.pydata.org/pandas-docs/stable/reshaping.html\n",
    "* http://stackoverflow.com/questions/20250771/remap-values-in-pandas-column-with-a-dict\n",
    "* https://en.wikipedia.org/wiki/Kitchen_sink_regression\n",
    "* https://stat.ethz.ch/R-manual/R-patched/library/stats/html/wilcox.test.html"
   ]
  }
 ],
 "metadata": {
  "kernelspec": {
   "display_name": "Python 3",
   "language": "python",
   "name": "python3"
  },
  "language_info": {
   "codemirror_mode": {
    "name": "ipython",
    "version": 3
   },
   "file_extension": ".py",
   "mimetype": "text/x-python",
   "name": "python",
   "nbconvert_exporter": "python",
   "pygments_lexer": "ipython3",
   "version": "3.4.3"
  }
 },
 "nbformat": 4,
 "nbformat_minor": 0
}
